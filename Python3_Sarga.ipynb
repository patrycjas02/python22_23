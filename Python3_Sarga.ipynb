{
 "cells": [
  {
   "cell_type": "markdown",
   "id": "f278d3a0",
   "metadata": {},
   "source": [
    "<h3> Biological databases"
   ]
  },
  {
   "cell_type": "markdown",
   "id": "e3ef2671",
   "metadata": {},
   "source": [
    "<h4> Exercise1: Write a function that takes PDB ID as argument and saves into the file all lines which start with \"ATOM\" and \"HETATM\".What is the number of CA atoms in \"1X1R\"?"
   ]
  },
  {
   "cell_type": "code",
   "execution_count": 5,
   "id": "30c3f24e",
   "metadata": {},
   "outputs": [
    {
     "name": "stdout",
     "output_type": "stream",
     "text": [
      "Number of CA atoms:  169\n"
     ]
    }
   ],
   "source": [
    "from urllib.request import urlopen #module for URL processing\n",
    "\n",
    "def downloadPDB(pdbId):\n",
    "    PDB_URL = f'http://www.rcsb.org/pdb/files/{pdbId}.pdb'   \n",
    "    response = urlopen(PDB_URL)            #open URL \n",
    "    data = response.read().decode('utf-8') #read the content and use utf-8 encoding\n",
    "    return data.split(\"\\n\")\n",
    "\n",
    "def Save_into_file(pdbId):\n",
    "    t = downloadPDB(pdbId)\n",
    "    my_file = open(\"file1.txt\", \"w\")\n",
    "    for elem in t:\n",
    "        if elem.startswith(\"ATOM\") or elem.startswith(\"HETATM\"): \n",
    "            my_file.write(elem)\n",
    "            my_file.write(\"\\n\")\n",
    "    my_file.close()\n",
    "    \n",
    "    count = 0\n",
    "\n",
    "    for elem in t:\n",
    "        if elem.startswith(\"ATOM\"): \n",
    "            if 'CA' in elem:\n",
    "                count += 1\n",
    "\n",
    "    print('Number of CA atoms: ',count)\n",
    "\n",
    "Save_into_file(\"1X1R\")\n"
   ]
  },
  {
   "cell_type": "markdown",
   "id": "c7d57453",
   "metadata": {},
   "source": [
    "<h4> Exercise2: For a given paper (chosen by yourself) save its abstract into a file (from PubMed database)."
   ]
  },
  {
   "cell_type": "code",
   "execution_count": 6,
   "id": "70a7db62",
   "metadata": {},
   "outputs": [
    {
     "name": "stdout",
     "output_type": "stream",
     "text": [
      "Correlation networks are increasingly being used in bioinformatics applications. For example, weighted gene co-expression network analysis is a systems biology method for describing the correlation patterns among genes across microarray samples. Weighted correlation network analysis (WGCNA) can be used for finding clusters (modules) of highly correlated genes, for summarizing such clusters using the module eigengene or an intramodular hub gene, for relating modules to one another and to external sample traits (using eigengene network methodology), and for calculating module membership measures. Correlation networks facilitate network based gene screening methods that can be used to identify candidate biomarkers or therapeutic targets. These methods have been successfully applied in various biological contexts, e.g. cancer, mouse genetics, yeast genetics, and analysis of brain imaging data. While parts of the correlation network methodology have been described in separate publications, there is a need to provide a user-friendly, comprehensive, and consistent software implementation and an accompanying tutorial.\n",
      "The WGCNA R software package is a comprehensive collection of R functions for performing various aspects of weighted correlation network analysis. The package includes functions for network construction, module detection, gene selection, calculations of topological properties, data simulation, visualization, and interfacing with external software. Along with the R package we also present R software tutorials. While the methods development was motivated by gene expression data, the underlying data mining approach can be applied to a variety of different settings.\n",
      "The WGCNA package provides R functions for weighted correlation network analysis, e.g. co-expression network analysis of gene expression data. The R package along with its source code and additional material are freely available at http://www.genetics.ucla.edu/labs/horvath/CoexpressionNetwork/Rpackages/WGCNA.\n"
     ]
    }
   ],
   "source": [
    "from urllib.request import urlopen\n",
    "from lxml import etree #external library for XML files processing\n",
    "\n",
    "PMID = '19114008'\n",
    "\n",
    "baseurl = \"https://eutils.ncbi.nlm.nih.gov/entrez/eutils/efetch.fcgi?\"\n",
    "query = f\"db=pubmed&id={PMID}&format=xml\"    \n",
    "url = baseurl+query #concatenation of efetch and our query\n",
    "\n",
    "\n",
    "f = urlopen(url) #open url\n",
    "resultxml = f.read() #read the content\n",
    "\n",
    "xml = etree.XML(resultxml) \n",
    "\n",
    "resultelements= xml.xpath(\"//AbstractText\") \n",
    "\n",
    "f = open(\"Abstract.txt\", \"w\")\n",
    "for element in resultelements:\n",
    "    abstract = ''.join([element.text])\n",
    "    print(abstract)\n",
    "    f.write(abstract)\n",
    "         \n",
    "f.close()"
   ]
  },
  {
   "cell_type": "markdown",
   "id": "046f6a6e",
   "metadata": {},
   "source": [
    "<h4> Exercise3: Find an appropriate tag and download a definition for NM_204410.1 (from  NCBI/nucleotide)."
   ]
  },
  {
   "cell_type": "code",
   "execution_count": 7,
   "id": "f3d0e5ca",
   "metadata": {},
   "outputs": [
    {
     "name": "stdout",
     "output_type": "stream",
     "text": [
      "['Gallus gallus secreted protein acidic and cysteine rich (SPARC), mRNA']\n"
     ]
    }
   ],
   "source": [
    "from urllib.request import urlopen\n",
    "from lxml import etree\n",
    "\n",
    "ID = 'NM_204410.1'\n",
    "baseurl= \"https://eutils.ncbi.nlm.nih.gov/entrez/eutils/efetch.fcgi?\"\n",
    "query= f\"db=nucleotide&id={ID}&format=xml\"\n",
    "url= baseurl+query\n",
    "\n",
    "f = urlopen(url) \n",
    "resultxml= f.read() \n",
    "xml= etree.XML(resultxml) \n",
    "\n",
    "resultelements = xml.xpath(\"//GBSeq_definition\") \n",
    "\n",
    "for element in resultelements:\n",
    "    print([element.text])"
   ]
  },
  {
   "cell_type": "markdown",
   "id": "4d0cae28",
   "metadata": {},
   "source": [
    "<h4> Exercise4: Download the record KU325498.1 (from  NCBI/nucleotide) and save it into the file using FASTA format (where ID is a name)."
   ]
  },
  {
   "cell_type": "code",
   "execution_count": 8,
   "id": "a6f7a6bd",
   "metadata": {},
   "outputs": [],
   "source": [
    "ID = 'KU325498.1'\n",
    "baseurl= \"https://eutils.ncbi.nlm.nih.gov/entrez/eutils/efetch.fcgi?\"\n",
    "query= f\"db=nucleotide&id={ID}&format=xml\"\n",
    "url= baseurl+query\n",
    "\n",
    "f = urlopen(url) \n",
    "resultxml= f.read() \n",
    "xml= etree.XML(resultxml) \n"
   ]
  },
  {
   "cell_type": "code",
   "execution_count": 9,
   "id": "503c190e",
   "metadata": {},
   "outputs": [],
   "source": [
    "resultelements = xml.xpath(\"//GBSeq_sequence\") \n",
    "\n",
    "f = open(\"record.txt\", \"w\")\n",
    "for element in resultelements:\n",
    "    f.write(f\">{ID}\\n{element.text}\")\n",
    "f.close()"
   ]
  },
  {
   "cell_type": "markdown",
   "id": "a622495b",
   "metadata": {},
   "source": [
    "<h4> Exercise5: Download SMILES format and plot \"chlordiazepoxide\" structure. What is the application of such a molecule?\n",
    " "
   ]
  },
  {
   "cell_type": "code",
   "execution_count": 10,
   "id": "0ab7a777",
   "metadata": {},
   "outputs": [
    {
     "data": {
      "image/png": "[encoded data removed]",
      "text/plain": [
       "<IPython.core.display.Image object>"
      ]
     },
     "execution_count": 10,
     "metadata": {},
     "output_type": "execute_result"
    }
   ],
   "source": [
    "from urllib.request import urlretrieve\n",
    "from IPython.display import Image\n",
    "\n",
    "molecule = \"chlordiazepoxide\"\n",
    "query = f\"https://pubchem.ncbi.nlm.nih.gov/rest/pug/compound/name/{molecule}/XML\"\n",
    "\n",
    "response = urlopen(query)\n",
    "resultxml = response.read()\n",
    "tree = etree.XML(resultxml)\n",
    "\n",
    "sek = []\n",
    "for element in tree.iter():\n",
    "    if element.tag == \"{http://www.ncbi.nlm.nih.gov}PC-InfoData_value_sval\": #there is a SMILES format\n",
    "        sek.append(element.text)\n",
    "\n",
    "smiles = sek[-2] #aspirin molecule in SMILES format\n",
    "urlretrieve('https://pubchem.ncbi.nlm.nih.gov/rest/pug/compound/smiles/'+smiles+'/PNG', 'smi_pic.png')\n",
    "p = Image(filename='smi_pic.png')\n",
    "p"
   ]
  },
  {
   "cell_type": "markdown",
   "id": "96a2a66e",
   "metadata": {},
   "source": [
    "$\\to$ Chlordiazepoxide is indicated for the short-term (2–4 weeks) treatment of anxiety that is severe and disabling or subjecting the person to unacceptable distress. It is also indicated as a treatment for the management of acute alcohol withdrawal syndrome."
   ]
  },
  {
   "cell_type": "markdown",
   "id": "bb350690",
   "metadata": {},
   "source": [
    "<h4> Exercise6: Explain the following patterns and give example strings that match them:</h4>\n",
    "    \n",
    "        \n",
    "    - AT*C:     ATC, ATAAC \n",
    "    - AT+C:     ATGC, ATAAC\n",
    "    - AT?C:     ATC, ATAC\n",
    "    - AT{3}C:   ATTTC\n",
    "    - AT{2,8}C: ATTC, ATTTTTC\n",
    "    - A.*C:     AC, ATGC, AAAAAC\n",
    "    - A.+C:     ATC, ATATC\n",
    "    - A.?C:     AC, AGC\n",
    "    - A.{3}C:   ACCCC, ATCTC\n",
    "    - A.{2,8}C: ATTC, ATGTAAC\n",
    "    - A[GC]T:   AGT, ACT\n",
    "    - A[^G]T:   ACT, ATT, AAT\n",
    "    - ^A[GC]T$: AGT, ACT\n",
    "    - ^A[^\\s]+: ATGCA, AA"
   ]
  },
  {
   "cell_type": "markdown",
   "id": "890b8345",
   "metadata": {},
   "source": [
    "<h4> Exercise7: Write a regular expression that encompasses the following words:</h4>\n",
    "        <br>\n",
    "        \n",
    "    - ATA, AGA, ACA:           A.A\n",
    "    - AT, ACT, ACCT, ACCCCT:   A[CT]+\n",
    "    - TAC, TCC, TCAAC, TCAACC: T[AC]{2,5}"
   ]
  },
  {
   "cell_type": "markdown",
   "id": "529506eb",
   "metadata": {},
   "source": [
    "<h4> Exercise8: Using regex find all non-overlapping subsequences composed of only C residues. For example, after application to ACTCCGCCCC you should obtain ['C','CC','CCC']."
   ]
  },
  {
   "cell_type": "code",
   "execution_count": 11,
   "id": "112e8935",
   "metadata": {},
   "outputs": [
    {
     "name": "stdout",
     "output_type": "stream",
     "text": [
      "['C', 'CC', 'CCCC']\n"
     ]
    }
   ],
   "source": [
    "import regex as re #library for regular expressions\n",
    "\n",
    "seq = \"ACTCCGCCCC\"\n",
    "pattern = 'C+'\n",
    "print(re.findall(pattern, seq)) #findall has two arguments --> pattern and text"
   ]
  },
  {
   "cell_type": "markdown",
   "id": "a65c4350",
   "metadata": {},
   "source": [
    "<h4> Exercise9: Using regex, remove all low characters from a sequence. For example, after application to ATTAAAaaaGccT you should obtain ATTAAAT. "
   ]
  },
  {
   "cell_type": "code",
   "execution_count": 12,
   "id": "db50507f",
   "metadata": {},
   "outputs": [
    {
     "name": "stdout",
     "output_type": "stream",
     "text": [
      "ATTAAAGT\n"
     ]
    }
   ],
   "source": [
    "seq = \"ATTAAAaaaGccT\"\n",
    "pattern = '[^[A-Z]]*'\n",
    "print(re.sub(pattern, '', seq)) #sub has three arugments: pattern, to what we change the pattern, and text"
   ]
  },
  {
   "cell_type": "markdown",
   "id": "8cbe6b07",
   "metadata": {},
   "source": [
    "<h4> Exercise10: Consider the motif| A or G | ? | ? | ? | ? | G | K | S or T |.  \n",
    "    \n",
    "- Write a regular expression for the motif. $\\to$ [AG].{4}GKS[ST]\n",
    "- Download sequences AAH10041.2 and CAG38727.1 (from NCBI/proteins, automatically).\n",
    "- What are the names of these proteins? \n",
    "- Localize the motif fragments within these proteins (positions).\n",
    "- Compare the results with UNIPROT database data (Features)."
   ]
  },
  {
   "cell_type": "code",
   "execution_count": 56,
   "id": "6c94f824",
   "metadata": {},
   "outputs": [],
   "source": [
    "# Download sequences AAH10041.2 and CAG38727.1 (from NCBI/proteins, automatically).\n",
    "\n",
    "ID1 = 'AAH10041.2'\n",
    "ID2 = 'CAG38727.1'\n",
    "\n",
    "def download(ID, name):\n",
    "    \n",
    "    baseurl= \"https://eutils.ncbi.nlm.nih.gov/entrez/eutils/efetch.fcgi?\"\n",
    "    query= f\"db=Protein&id={ID}&format=xml\"\n",
    "    url= baseurl+query\n",
    "\n",
    "    f = urlopen(url) \n",
    "    resultxml= f.read() \n",
    "    xml= etree.XML(resultxml) \n",
    "        \n",
    "    resultelements = xml.xpath(\"//GBSeq_sequence\") \n",
    "\n",
    "    f = open(name, \"w\")\n",
    "    for element in resultelements:\n",
    "        f.write(f\">{ID}\\n{element.text}\")\n",
    "    f.close()\n",
    "    \n",
    "    for element in resultelements:\n",
    "        return(element.text)\n",
    "    \n",
    "seq1 = download(ID1, 'ID1_seq')\n",
    "\n",
    "seq2 = download(ID2, 'ID2_seq')"
   ]
  },
  {
   "cell_type": "code",
   "execution_count": 37,
   "id": "a508feb2",
   "metadata": {},
   "outputs": [
    {
     "name": "stdout",
     "output_type": "stream",
     "text": [
      "['GBReference_authors', 'GBSeq_moltype', 'GBInterval_accession', 'GBSeq_organism', 'GBXref', 'GBXref_dbname', 'GBReference', 'GBSeq_update-date', 'GBAuthor', 'GBSeq_length', 'GBXref_id', 'GBFeature_key', 'GBQualifier', 'GBSeq_comment', 'GBInterval_from', 'GBSeq_definition', 'GBFeature_location', 'GBQualifier_value', 'GBQualifier_name', 'GBSeq_feature-table', 'GBSeq_taxonomy', 'GBSet', 'GBSeq_other-seqids', 'GBReference_consortium', 'GBReference_title', 'GBFeature_quals', 'GBReference_journal', 'GBSeq_topology', 'GBReference_position', 'GBReference_remark', 'GBFeature_intervals', 'GBSeq_accession-version', 'GBInterval_to', 'GBSeq_locus', 'GBKeyword', 'GBReference_pubmed', 'GBFeature', 'GBSeq_keywords', 'GBReference_xref', 'GBInterval', 'GBSeq_references', 'GBSeq_sequence', 'GBSeq_create-date', 'GBSeq_source-db', 'GBReference_reference', 'GBSeq_source', 'GBSeqid', 'GBSeq_primary-accession', 'GBSeq_division', 'GBSeq']\n"
     ]
    }
   ],
   "source": [
    "tags = list({elem.tag for elem in xml.iter()})\n",
    "print(tags)"
   ]
  },
  {
   "cell_type": "code",
   "execution_count": 43,
   "id": "f84fea74",
   "metadata": {},
   "outputs": [
    {
     "name": "stdout",
     "output_type": "stream",
     "text": [
      "['Tu translation elongation factor, mitochondrial [Homo sapiens]']\n",
      "['RAB1A [Homo sapiens]']\n"
     ]
    }
   ],
   "source": [
    "# What are the names of these proteins? \n",
    "\n",
    "def give_names(ID):\n",
    "    \n",
    "    baseurl= \"https://eutils.ncbi.nlm.nih.gov/entrez/eutils/efetch.fcgi?\"\n",
    "    query= f\"db=Protein&id={ID}&format=xml\"\n",
    "    url= baseurl+query\n",
    "\n",
    "    f = urlopen(url) \n",
    "    resultxml= f.read() \n",
    "    xml= etree.XML(resultxml)\n",
    "    \n",
    "    resultelements= xml.xpath(\"//GBSeq_definition\") \n",
    "\n",
    "    for element in resultelements:\n",
    "        print([element.text])\n",
    "        \n",
    "give_names(ID1)\n",
    "give_names(ID2)"
   ]
  },
  {
   "cell_type": "code",
   "execution_count": 57,
   "id": "7902e143",
   "metadata": {},
   "outputs": [
    {
     "name": "stdout",
     "output_type": "stream",
     "text": [
      "['ghvdhgkt']\n"
     ]
    }
   ],
   "source": [
    "# Localize the motif fragments within these proteins (positions).\n",
    "\n",
    "f = open(\"ID1_seq\")\n",
    "t = f.read()\n",
    "f.close()\n",
    "\n",
    "seqs = re.findall(\"[ag].{4}gk[st]\", t) \n",
    "print(seqs)"
   ]
  },
  {
   "cell_type": "code",
   "execution_count": 64,
   "id": "67b1b293",
   "metadata": {},
   "outputs": [
    {
     "name": "stdout",
     "output_type": "stream",
     "text": [
      "Pozycja fragmentu ghvdhgkt w sekwencji to 66\n"
     ]
    }
   ],
   "source": [
    "from Bio.Seq import Seq\n",
    "                  \n",
    "fragment = \"ghvdhgkt\"\n",
    "position = seq1.find(fragment)\n",
    "\n",
    "print(\"Pozycja fragmentu {} w sekwencji to {}\".format(fragment, position))\n"
   ]
  },
  {
   "cell_type": "code",
   "execution_count": 52,
   "id": "4b5004bf",
   "metadata": {},
   "outputs": [
    {
     "name": "stdout",
     "output_type": "stream",
     "text": [
      "['gdsgvgks']\n"
     ]
    }
   ],
   "source": [
    "f = open(\"ID2_seq\")\n",
    "t = f.read()\n",
    "f.close()\n",
    "\n",
    "seqs = re.findall(\"[ag].{4}gk[st]\", t) \n",
    "print(seqs)"
   ]
  },
  {
   "cell_type": "code",
   "execution_count": 65,
   "id": "fe89f049",
   "metadata": {},
   "outputs": [
    {
     "name": "stdout",
     "output_type": "stream",
     "text": [
      "Pozycja fragmentu gdsgvgks w sekwencji to 17\n"
     ]
    }
   ],
   "source": [
    "fragment = \"gdsgvgks\"\n",
    "position = seq2.find(fragment)\n",
    "\n",
    "print(\"Pozycja fragmentu {} w sekwencji to {}\".format(fragment, position))\n"
   ]
  },
  {
   "cell_type": "markdown",
   "id": "161775ca",
   "metadata": {},
   "source": [
    "- Compare the results with UNIPROT database data (Features).\n",
    "\n",
    "$\\to$ after checking both records in the UNIPROT database, the results obtained in the previous part of the task were confirmed"
   ]
  }
 ],
 "metadata": {
  "kernelspec": {
   "display_name": "Python 3 (ipykernel)",
   "language": "python",
   "name": "python3"
  },
  "language_info": {
   "codemirror_mode": {
    "name": "ipython",
    "version": 3
   },
   "file_extension": ".py",
   "mimetype": "text/x-python",
   "name": "python",
   "nbconvert_exporter": "python",
   "pygments_lexer": "ipython3",
   "version": "3.10.10"
  }
 },
 "nbformat": 4,
 "nbformat_minor": 5
}
