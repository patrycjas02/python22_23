{
 "cells": [
  {
   "cell_type": "markdown",
   "id": "4f87f5b5",
   "metadata": {},
   "source": [
    "<h3> Lambda+map/filter "
   ]
  },
  {
   "cell_type": "markdown",
   "id": "a7f58356",
   "metadata": {},
   "source": [
    "<h4> Exercise1: Let's define a list of sequences [\"ATGGGG\", \"AAATT\", \"GGGATAGAGA\", \"GAGAT\"] and in the next step create  a new list which elements are lengths for each sequence -> [6, 5, 10, 5]."
   ]
  },
  {
   "cell_type": "code",
   "execution_count": 3,
   "id": "c974af99",
   "metadata": {},
   "outputs": [
    {
     "name": "stdout",
     "output_type": "stream",
     "text": [
      "[6, 5, 10, 5]\n"
     ]
    }
   ],
   "source": [
    "sequences = [\"ATGGGG\", \"AAATT\", \"GGGATAGAGA\", \"GAGAT\"]\n",
    "\n",
    "y = list(map(lambda a: len(a),sequences))\n",
    "print(y)"
   ]
  },
  {
   "cell_type": "markdown",
   "id": "a7ddce60",
   "metadata": {},
   "source": [
    "<h4> Exercise2: Let's define a list of sequences [\"ATGGGG\", \"AAATT\", \"GGGATAGAGA\", \"GAGAT\"] and in the next step create  a new list which contains only these sequences which starts with \"G\" -> [\"GGGATAGAGA\", \"GAGAT\"]."
   ]
  },
  {
   "cell_type": "code",
   "execution_count": 4,
   "id": "7f556946",
   "metadata": {},
   "outputs": [
    {
     "name": "stdout",
     "output_type": "stream",
     "text": [
      "['GGGATAGAGA', 'GAGAT']\n"
     ]
    }
   ],
   "source": [
    "y = list(filter(lambda a: a[0]=='G',sequences))\n",
    "print(y)"
   ]
  },
  {
   "cell_type": "markdown",
   "id": "e09aba72",
   "metadata": {},
   "source": [
    "<h3> FASTA files processing"
   ]
  },
  {
   "cell_type": "markdown",
   "id": "c0df988f",
   "metadata": {},
   "source": [
    "<h4> Exercise3: Open a file 'sequences' and save sequences into the dictionary variable Seq.\n",
    "\n",
    " <br>\n",
    " \n",
    "Remark: You may start with creating two lists containing headings and sequences and in the next step convert them into a dictionary."
   ]
  },
  {
   "cell_type": "code",
   "execution_count": 18,
   "id": "50a250b5",
   "metadata": {},
   "outputs": [
    {
     "name": "stdout",
     "output_type": "stream",
     "text": [
      "['s1', 's2', 's3']\n",
      "['ATGCGCG', 'TATCGGCG', 'CCCCCCCCCC']\n"
     ]
    }
   ],
   "source": [
    "heading = []\n",
    "contains = []\n",
    "with open('sequences', 'r') as f:\n",
    "    for line in f:  #for every line in sequences file\n",
    "        line = line.rstrip() #The rstrip() method removes characters at the end a string (including \"\\n\")\n",
    "        if line.startswith('>'):\n",
    "            heading.append(line[1:])\n",
    "        else: contains.append(line)\n",
    "        \n",
    "print(heading)\n",
    "print(contains)"
   ]
  },
  {
   "cell_type": "code",
   "execution_count": 19,
   "id": "ec3e37f8",
   "metadata": {},
   "outputs": [
    {
     "name": "stdout",
     "output_type": "stream",
     "text": [
      "{'s1': 'ATGCGCG', 's2': 'TATCGGCG', 's3': 'CCCCCCCCCC'}\n"
     ]
    }
   ],
   "source": [
    "Seq = dict(zip(heading, contains))\n",
    "print(Seq)"
   ]
  },
  {
   "cell_type": "markdown",
   "id": "df59a544",
   "metadata": {},
   "source": [
    "<h3> Searching the set of Sequences"
   ]
  },
  {
   "cell_type": "markdown",
   "id": "00dbb3c5",
   "metadata": {},
   "source": [
    "<h4> Exercise4: Consider the following nucleotide sequence:"
   ]
  },
  {
   "cell_type": "code",
   "execution_count": 59,
   "id": "8af1a5c5",
   "metadata": {},
   "outputs": [],
   "source": [
    "query = \"ATGCAACATATGCGACAAATGCTATTCTTATTATATTCGGATTC\""
   ]
  },
  {
   "cell_type": "markdown",
   "id": "03bc37df",
   "metadata": {},
   "source": [
    "<h4> File \"database_n\" contains 100 nucleotide sequences. \n",
    "<br>\n",
    "    \n",
    "Make an alignment between every subsequent sequence in the file and the query (assume the following system points: match:1, mismatch:-3, insert=1, extend=1). \n",
    "    \n",
    "- Which sequences are the most similar to the query? You may plot the distributions of scores using plt.hist(data) method."
   ]
  },
  {
   "cell_type": "code",
   "execution_count": 60,
   "id": "cfb20a6a",
   "metadata": {},
   "outputs": [
    {
     "name": "stdout",
     "output_type": "stream",
     "text": [
      "{'seq0': -6.0, 'seq1': -6.0, 'seq2': 1.0, 'seq3': 1.0, 'seq4': -2.0, 'seq5': -2.0, 'seq6': -1.0, 'seq7': 2.0, 'seq8': 5.0, 'seq9': -2.0, 'seq10': 1.0, 'seq11': 39.0, 'seq12': -8.0, 'seq13': -8.0, 'seq14': -3.0, 'seq15': 5.0, 'seq16': -6.0, 'seq17': -1.0, 'seq18': -5.0, 'seq19': -3.0, 'seq20': -10.0, 'seq21': -1.0, 'seq22': -4.0, 'seq23': -12.0, 'seq24': -10.0, 'seq25': -2.0, 'seq26': -7.0, 'seq27': -5.0, 'seq28': -7.0, 'seq29': -2.0, 'seq30': -12.0, 'seq31': -6.0, 'seq32': -10.0, 'seq33': -9.0, 'seq34': -4.0, 'seq35': -3.0, 'seq36': -5.0, 'seq37': -7.0, 'seq38': -3.0, 'seq39': -6.0, 'seq40': -12.0, 'seq41': -4.0, 'seq42': -7.0, 'seq43': -4.0, 'seq44': 37.0, 'seq45': -2.0, 'seq46': -9.0, 'seq47': -4.0, 'seq48': -10.0, 'seq49': 5.0, 'seq50': -8.0, 'seq51': -9.0, 'seq52': 2.0, 'seq53': -7.0, 'seq54': -4.0, 'seq55': -7.0, 'seq56': 0.0, 'seq57': -4.0, 'seq58': -10.0, 'seq59': -9.0, 'seq60': -5.0, 'seq61': 0.0, 'seq62': -1.0, 'seq63': -3.0, 'seq64': -6.0, 'seq65': -10.0, 'seq66': -1.0, 'seq67': -5.0, 'seq68': -9.0, 'seq69': 0.0, 'seq70': -13.0, 'seq71': -2.0, 'seq72': -7.0, 'seq73': -7.0, 'seq74': -4.0, 'seq75': 0.0, 'seq76': 4.0, 'seq77': 39.0, 'seq78': -6.0, 'seq79': -7.0, 'seq80': -1.0, 'seq81': -8.0, 'seq82': -17.0, 'seq83': 6.0, 'seq84': -5.0, 'seq85': -6.0, 'seq86': -3.0, 'seq87': -8.0, 'seq88': -5.0, 'seq89': -9.0, 'seq90': 0.0, 'seq91': -10.0, 'seq92': -7.0, 'seq93': -9.0, 'seq94': -8.0, 'seq95': -3.0, 'seq96': -3.0, 'seq97': -1.0, 'seq98': -6.0, 'seq99': -12.0}\n"
     ]
    }
   ],
   "source": [
    "from alignment import SequenceAlign, dotMatrix\n",
    "\n",
    "#seqA = 'TAGGCTATGCTATAGGCTTAAGCTAGGCTATATGCTATAGCGGCCAAAAT'\n",
    "#seqB = 'GGCTATATGCTATAGCGGCCAAAATTAGGCTATGCTATAGGCTTAAGCTA'\n",
    "\n",
    "heading = []\n",
    "scores = []\n",
    "\n",
    "with open('database_n', 'r') as f:\n",
    "    for line in f:\n",
    "        line = line.rstrip()\n",
    "        if line.startswith('>'):\n",
    "            heading.append(line[1:])\n",
    "        if not line.startswith('>'):\n",
    "            score, alignA, alignB = SequenceAlign(query, line, insert=1, extend=1)\n",
    "            scores.append(score)\n",
    "  \n",
    "scores_dict = dict(zip(heading, scores))\n",
    "print(scores_dict)\n"
   ]
  },
  {
   "cell_type": "code",
   "execution_count": 43,
   "id": "3f04862f",
   "metadata": {},
   "outputs": [
    {
     "name": "stdout",
     "output_type": "stream",
     "text": [
      "seq11 : 39.0\n"
     ]
    }
   ],
   "source": [
    "#Which sequences are the most similar to the query?\n",
    "\n",
    "max_value_key = max(scores_dict, key=scores_dict.get)\n",
    "max_value = max(scores_dict.values())\n",
    "print(max_value_key,\":\", max_value)"
   ]
  },
  {
   "cell_type": "code",
   "execution_count": 47,
   "id": "461b0259",
   "metadata": {},
   "outputs": [
    {
     "data": {
      "image/png": "[encoded data removed]",
      "text/plain": [
       "<Figure size 432x288 with 1 Axes>"
      ]
     },
     "metadata": {
      "needs_background": "light"
     },
     "output_type": "display_data"
    }
   ],
   "source": [
    "import matplotlib.pyplot as plt\n",
    "\n",
    "plt.hist(scores)\n",
    "plt.show()"
   ]
  },
  {
   "cell_type": "markdown",
   "id": "ad06ef6b",
   "metadata": {},
   "source": [
    "<h4> Exercise5: Consider the following protein sequence:"
   ]
  },
  {
   "cell_type": "code",
   "execution_count": 64,
   "id": "d4df0af4",
   "metadata": {},
   "outputs": [],
   "source": [
    "query = \"EKPDPHTKMHQYWLKPYELMEIYYQYRPFINFDQQMRVGLRCEA\""
   ]
  },
  {
   "cell_type": "markdown",
   "id": "688e1ec6",
   "metadata": {},
   "source": [
    "<h4> File \"database_p\" contains 100 protein sequences. \n",
    "<br>\n",
    "    \n",
    "\n",
    "    \n",
    "Using k-mers with k=3, compare every sequence in the file and the query (you may use k_comparison method from the lecture2). \n",
    "    \n",
    "- Which sequences are the most similar to the query? You may plot the distributions of distances using plt.hist(data) method. \n",
    "\n",
    "- What are the advantages and disadvatages of such an approach comparing to the alignment approach?  \n",
    "    \n",
    "- In the nucleotide case, the $k$ parameter should be bigger or smaller? Why?"
   ]
  },
  {
   "cell_type": "code",
   "execution_count": 6,
   "id": "e7a097c5",
   "metadata": {},
   "outputs": [
    {
     "data": {
      "text/plain": [
       "{'ATG': 1, 'TGG': 2, 'GGT': 1, 'GTG': 1}"
      ]
     },
     "execution_count": 6,
     "metadata": {},
     "output_type": "execute_result"
    }
   ],
   "source": [
    "#k-mers\n",
    "\n",
    "def kmers(seq, k = 3):\n",
    "    d = {}\n",
    "    N = len(seq)\n",
    "    for i in range(N-k+1):\n",
    "        mer = seq[i:(i+k)]\n",
    "        if mer not in d.keys():\n",
    "            d[mer] = 1\n",
    "        else:\n",
    "            d[mer] += 1\n",
    "    return d\n",
    "\n",
    "\n",
    "kmers(\"ATGGTGG\")"
   ]
  },
  {
   "cell_type": "code",
   "execution_count": 49,
   "id": "4ccfefba",
   "metadata": {},
   "outputs": [],
   "source": [
    "def k_comparison(seq1, seq2, k=3):\n",
    "    d1 = kmers(seq1, k)\n",
    "    d2 = kmers(seq2, k)\n",
    "    all_mers = []\n",
    "    keysd1 = list(d1.keys())\n",
    "    keysd2 = list(d2.keys())\n",
    "    unique_mers = list(set(keysd1+keysd2))\n",
    "    c1 = []\n",
    "    c2 = []\n",
    "    for elem in unique_mers:\n",
    "        if elem in d1.keys():\n",
    "            c1.append(d1[elem])\n",
    "        else:\n",
    "            c1.append(0)\n",
    "            \n",
    "    for elem in unique_mers:\n",
    "        if elem in d2.keys():\n",
    "            c2.append(d2[elem])\n",
    "        else:\n",
    "            c2.append(0)\n",
    "    distance = 0\n",
    "    for i in range(len(c1)):\n",
    "        distance += (c1[i]-c2[i])**2\n",
    "    return round(distance**0.5,2)"
   ]
  },
  {
   "cell_type": "code",
   "execution_count": 65,
   "id": "b7a66ee3",
   "metadata": {},
   "outputs": [
    {
     "name": "stdout",
     "output_type": "stream",
     "text": [
      "{'seq0': 8.94, 'seq1': 9.17, 'seq2': 8.94, 'seq3': 9.06, 'seq4': 9.17, 'seq5': 9.06, 'seq6': 9.17, 'seq7': 9.06, 'seq8': 9.17, 'seq9': 8.94, 'seq10': 8.94, 'seq11': 8.94, 'seq12': 9.17, 'seq13': 8.94, 'seq14': 9.27, 'seq15': 9.33, 'seq16': 9.27, 'seq17': 9.06, 'seq18': 3.32, 'seq19': 8.94, 'seq20': 8.94, 'seq21': 9.06, 'seq22': 9.17, 'seq23': 8.94, 'seq24': 9.06, 'seq25': 9.17, 'seq26': 8.94, 'seq27': 3.87, 'seq28': 9.17, 'seq29': 9.06, 'seq30': 9.17, 'seq31': 8.94, 'seq32': 9.33, 'seq33': 9.06, 'seq34': 9.43, 'seq35': 8.94, 'seq36': 9.17, 'seq37': 9.17, 'seq38': 8.83, 'seq39': 9.17, 'seq40': 8.94, 'seq41': 9.06, 'seq42': 8.94, 'seq43': 8.94, 'seq44': 8.94, 'seq45': 9.33, 'seq46': 8.94, 'seq47': 9.17, 'seq48': 9.06, 'seq49': 9.33, 'seq50': 9.17, 'seq51': 9.06, 'seq52': 9.17, 'seq53': 9.06, 'seq54': 9.17, 'seq55': 9.33, 'seq56': 9.17, 'seq57': 8.94, 'seq58': 9.27, 'seq59': 9.06, 'seq60': 9.06, 'seq61': 9.17, 'seq62': 9.17, 'seq63': 9.17, 'seq64': 9.17, 'seq65': 9.17, 'seq66': 9.17, 'seq67': 9.06, 'seq68': 9.06, 'seq69': 8.94, 'seq70': 9.33, 'seq71': 8.94, 'seq72': 9.17, 'seq73': 9.17, 'seq74': 9.33, 'seq75': 9.17, 'seq76': 9.33, 'seq77': 9.38, 'seq78': 9.17, 'seq79': 9.17, 'seq80': 9.06, 'seq81': 8.94, 'seq82': 9.27, 'seq83': 9.27, 'seq84': 9.17, 'seq85': 8.72, 'seq86': 9.17, 'seq87': 9.17, 'seq88': 9.17, 'seq89': 9.17, 'seq90': 9.27, 'seq91': 9.06, 'seq92': 9.17, 'seq93': 9.17, 'seq94': 9.17, 'seq95': 9.06, 'seq96': 9.06, 'seq97': 9.17, 'seq98': 9.17, 'seq99': 4.0}\n"
     ]
    }
   ],
   "source": [
    "heading = []\n",
    "scores = []\n",
    "\n",
    "with open('database_p', 'r') as f:\n",
    "    for line in f:\n",
    "        line = line.rstrip()\n",
    "        if line.startswith('>'):\n",
    "            heading.append(line[1:])\n",
    "        if not line.startswith('>'):\n",
    "            score = k_comparison(query, line)\n",
    "            scores.append(score)\n",
    "            \n",
    "scores_dict = dict(zip(heading, scores))\n",
    "print(scores_dict)"
   ]
  },
  {
   "cell_type": "code",
   "execution_count": 66,
   "id": "82155577",
   "metadata": {},
   "outputs": [
    {
     "name": "stdout",
     "output_type": "stream",
     "text": [
      "seq34 : 9.43\n"
     ]
    }
   ],
   "source": [
    "#Which sequences are the most similar to the query?\n",
    "\n",
    "max_value_key = max(scores_dict, key=scores_dict.get)\n",
    "max_value = max(scores_dict.values())\n",
    "print(max_value_key,\":\", max_value)"
   ]
  },
  {
   "cell_type": "code",
   "execution_count": 67,
   "id": "58bcee00",
   "metadata": {},
   "outputs": [
    {
     "data": {
      "image/png": "[encoded data removed]",
      "text/plain": [
       "<Figure size 432x288 with 1 Axes>"
      ]
     },
     "metadata": {
      "needs_background": "light"
     },
     "output_type": "display_data"
    }
   ],
   "source": [
    "import matplotlib.pyplot as plt\n",
    "\n",
    "plt.hist(scores)\n",
    "plt.show()"
   ]
  },
  {
   "cell_type": "markdown",
   "id": "8cb07f36",
   "metadata": {},
   "source": [
    "#### What are the advantages and disadvatages of such an approach comparing to the alignment approach?\n",
    "\n",
    "$\\to$ this approach takes into account possible modifications in the sequences and increases the probability of finding the sequence from which the query is derived. However, this approach is more advanced and therefore time-consuming and, with incorrect assumptions, may lead to incorrect conclusions\n"
   ]
  },
  {
   "cell_type": "markdown",
   "id": "095a2d92",
   "metadata": {},
   "source": [
    "#### In the nucleotide case, the $k$ parameter should be bigger or smaller? Why? \n",
    "\n",
    "$\\to$ in the case of nucleotides, the length of the k-mer should be longer, because there are only 4 nucleotides, so there is less variety in subsequent places - the more randomly placed nucleotides in a given sequence, the greater the probability that each subsequent one will be different. In summary: longer k-mers ensure the specificity of the fit."
   ]
  },
  {
   "cell_type": "markdown",
   "id": "3f5741f9",
   "metadata": {},
   "source": [
    "<h4> Exercise6: Consider the following protein subsequence:"
   ]
  },
  {
   "cell_type": "code",
   "execution_count": 4,
   "id": "ab7dcbbb",
   "metadata": {},
   "outputs": [],
   "source": [
    "query = \"WRQAAALQK\"  "
   ]
  },
  {
   "cell_type": "markdown",
   "id": "6fee44ea",
   "metadata": {},
   "source": [
    "<h4> File \"database_p2\" contains 100 longer protein sequences. \n",
    "\n",
    "<h4> Using k-mers with k=3 compare every sequence in the file and the query - check which k-mers that are present in the query are present in the sequences from the file. As a result, for the comparison between two sequences you obtain the total number of k-mers shared between sequences (so if k-mer is present add 1).\n",
    "    \n",
    "<br>\n",
    "    \n",
    "    \n",
    "- Which sequences are the query sequence possibly derived from? Localize the query fragments.\n",
    "- Look at these sequences and make a comment on it."
   ]
  },
  {
   "cell_type": "code",
   "execution_count": 1,
   "id": "ebfacc97",
   "metadata": {},
   "outputs": [],
   "source": [
    "def k_comparison_count(seq1, seq2, k=3):\n",
    "    d1 = kmers(seq1, k)\n",
    "    all_mers = []\n",
    "    keysd1 = list(d1.keys())\n",
    "    unique_mers = list(set(keysd1))\n",
    "    c1 = 0\n",
    "    c2 = []\n",
    "    for elem in unique_mers:\n",
    "        if elem in seq2:\n",
    "            c1 += 1\n",
    "    \n",
    "    return c1"
   ]
  },
  {
   "cell_type": "code",
   "execution_count": 7,
   "id": "dc3da6e2",
   "metadata": {},
   "outputs": [
    {
     "name": "stdout",
     "output_type": "stream",
     "text": [
      "{'seq0': 0, 'seq1': 1, 'seq2': 0, 'seq3': 0, 'seq4': 0, 'seq5': 7, 'seq6': 0, 'seq7': 1, 'seq8': 1, 'seq9': 0, 'seq10': 0, 'seq11': 1, 'seq12': 0, 'seq13': 1, 'seq14': 1, 'seq15': 0, 'seq16': 0, 'seq17': 0, 'seq18': 0, 'seq19': 0, 'seq20': 0, 'seq21': 0, 'seq22': 2, 'seq23': 0, 'seq24': 0, 'seq25': 0, 'seq26': 0, 'seq27': 0, 'seq28': 0, 'seq29': 6, 'seq30': 1, 'seq31': 0, 'seq32': 0, 'seq33': 0, 'seq34': 0, 'seq35': 1, 'seq36': 1, 'seq37': 0, 'seq38': 0, 'seq39': 1, 'seq40': 0, 'seq41': 0, 'seq42': 0, 'seq43': 0, 'seq44': 0, 'seq45': 0, 'seq46': 0, 'seq47': 0, 'seq48': 0, 'seq49': 0, 'seq50': 0, 'seq51': 0, 'seq52': 0, 'seq53': 1, 'seq54': 0, 'seq55': 0, 'seq56': 0, 'seq57': 0, 'seq58': 5, 'seq59': 0, 'seq60': 0, 'seq61': 0, 'seq62': 1, 'seq63': 0, 'seq64': 0, 'seq65': 1, 'seq66': 2, 'seq67': 0, 'seq68': 0, 'seq69': 0, 'seq70': 0, 'seq71': 2, 'seq72': 1, 'seq73': 0, 'seq74': 1, 'seq75': 1, 'seq76': 0, 'seq77': 0, 'seq78': 1, 'seq79': 0, 'seq80': 1, 'seq81': 1, 'seq82': 0, 'seq83': 0, 'seq84': 1, 'seq85': 0, 'seq86': 0, 'seq87': 1, 'seq88': 1, 'seq89': 0, 'seq90': 0, 'seq91': 1, 'seq92': 0, 'seq93': 0, 'seq94': 0, 'seq95': 0, 'seq96': 0, 'seq97': 0, 'seq98': 0, 'seq99': 6}\n"
     ]
    }
   ],
   "source": [
    "heading = []\n",
    "scores = []\n",
    "\n",
    "with open('database_p2', 'r') as f:\n",
    "    for line in f:\n",
    "        line = line.rstrip()\n",
    "        if line.startswith('>'):\n",
    "            heading.append(line[1:])\n",
    "        if not line.startswith('>'):\n",
    "            score = k_comparison_count(query, line)\n",
    "            scores.append(score)\n",
    "  \n",
    "scores_dict = dict(zip(heading, scores))\n",
    "print(scores_dict)"
   ]
  },
  {
   "cell_type": "code",
   "execution_count": 8,
   "id": "c4f810ea",
   "metadata": {},
   "outputs": [
    {
     "name": "stdout",
     "output_type": "stream",
     "text": [
      "seq5 : 7\n"
     ]
    }
   ],
   "source": [
    "#Which sequences are the most similar to the query?\n",
    "\n",
    "max_value_key = max(scores_dict, key=scores_dict.get)\n",
    "max_value = max(scores_dict.values())\n",
    "print(max_value_key,\":\", max_value)"
   ]
  },
  {
   "cell_type": "markdown",
   "id": "26a49be2",
   "metadata": {},
   "source": [
    "$\\to$ query is propably derived from seq5 - it gives the highest score"
   ]
  },
  {
   "cell_type": "code",
   "execution_count": 82,
   "id": "3e7c2cbc",
   "metadata": {
    "scrolled": true
   },
   "outputs": [
    {
     "name": "stdout",
     "output_type": "stream",
     "text": [
      ">seq5\n",
      "TFCMMQKWVMLAPECGGHVCCSHPPTMEACGSHRVWPQDLDQGLQRKEPRLWTAQWPKMRMNFLAFWEKMWRRFCRIARGWLAAFIDDQQAEIHHHCATGMYNSQPNWWISKFMYFRGRSIDHCFQDLPMRFSMRLCGNYKGRQQNRPYFFWQFYMLWHETDSHVGRQMDDKCQFMRLRMWRQAAALQKTVVYCMCYQGDIGEKCELKGNCMPWNWRRLPMYIEQYFRSNSTYCLYVWMPSIKDHEFPGIDLRGCGNCVLADPHVGIANQGDGCCNMRCFACHSPIHIECQYAFVRTWWEQASSCYLVTPLTTLGKSMKPRVSHFGCYYGQALCQDWIFGANWKSINTAQRDSCKDMDICEYYMDCPQHWGSWWMLCIALVKIDDMMYCSETFDLKCAMQ\n"
     ]
    }
   ],
   "source": [
    "with open('database_p2', 'r') as f:\n",
    "    n=0\n",
    "    for line in f:\n",
    "        line = line.rstrip()\n",
    "        if line.startswith('>'):\n",
    "            n += 1\n",
    "        if n==6:\n",
    "            print(line)"
   ]
  },
  {
   "cell_type": "markdown",
   "id": "1b784b11",
   "metadata": {},
   "source": [
    "$\\to$ after having a look on seq5 it was noticed, that the whole query is there, so it gives us a confirmation, that the query more possibly is derived from this sequence"
   ]
  },
  {
   "cell_type": "markdown",
   "id": "a0a6d3c1",
   "metadata": {},
   "source": [
    "<h3> MSA and Phylogeny"
   ]
  },
  {
   "cell_type": "markdown",
   "id": "7ce5c548",
   "metadata": {},
   "source": [
    "<h4> Exercise7: According to the Profile, what is the probability of observing the following sequences:\n",
    "        \n",
    "- TARPSPVEIAL \n",
    "- TARPSPVEIAA "
   ]
  },
  {
   "cell_type": "code",
   "execution_count": 16,
   "id": "aec12616",
   "metadata": {},
   "outputs": [],
   "source": [
    "def Profile(alignment):\n",
    "    \n",
    "    n = len(alignment[0])\n",
    "    nS = len(alignment)\n",
    "    profile = []\n",
    "    \n",
    "    for i in range(n):\n",
    "        \n",
    "        how_many = {}\n",
    "        \n",
    "        for seq in alignment:\n",
    "            residue = seq[i]\n",
    "            \n",
    "            if residue == '-':\n",
    "                continue\n",
    "                \n",
    "            how_many[residue] = how_many.get(residue, 0) + 1 \n",
    "            \n",
    "        for residue in how_many:\n",
    "            how_many[residue] /= nS\n",
    "            \n",
    "        profile.append(how_many)\n",
    "        \n",
    "    return profile"
   ]
  },
  {
   "cell_type": "code",
   "execution_count": 72,
   "id": "5efb5658",
   "metadata": {},
   "outputs": [
    {
     "name": "stdout",
     "output_type": "stream",
     "text": [
      "[{'S': 0.25, 'T': 0.25, 'H': 0.5}, {'A': 0.75}, {'R': 0.25, 'V': 0.25, 'H': 0.25, 'E': 0.25}, {'P': 0.5, 'F': 0.5}, {'A': 0.5, 'S': 0.5}, {'P': 0.5, 'E': 0.5}, {'V': 0.5, 'P': 0.25, 'L': 0.25}, {'V': 0.75, 'E': 0.25}, {'I': 1.0}, {'I': 0.5, 'T': 0.25, 'A': 0.25}, {'L': 1.0}]\n"
     ]
    }
   ],
   "source": [
    "alignment = ['S-RPAPVVIIL',\n",
    "             'TAVPAPVVIIL',\n",
    "             'HAHFSEPEITL',\n",
    "             'HAEFSELVIAL']\n",
    "\n",
    "print(Profile(alignment))"
   ]
  },
  {
   "cell_type": "code",
   "execution_count": 81,
   "id": "a770c2c2",
   "metadata": {},
   "outputs": [
    {
     "name": "stdout",
     "output_type": "stream",
     "text": [
      "0.00018310546875\n"
     ]
    }
   ],
   "source": [
    "seq = \"TARPSPVEIAL\"\n",
    "\n",
    "propability = 1\n",
    "\n",
    "for i in range(len(seq)):\n",
    "    propability *= Profile(alignment)[i][seq[i]]\n",
    "    \n",
    "print(propability)"
   ]
  },
  {
   "cell_type": "code",
   "execution_count": 82,
   "id": "1d99a178",
   "metadata": {},
   "outputs": [
    {
     "name": "stdout",
     "output_type": "stream",
     "text": [
      "0.0\n"
     ]
    }
   ],
   "source": [
    "seq = \"TARPSPVEIAA\"\n",
    "\n",
    "propability = 1\n",
    "\n",
    "for i in range(len(seq)):\n",
    "    if(seq[i]) in Profile(alignment)[i]:\n",
    "        propability *= Profile(alignment)[i][seq[i]]\n",
    "    else: propability *= 0\n",
    "    \n",
    "print(propability)"
   ]
  },
  {
   "cell_type": "markdown",
   "id": "7d459fb3",
   "metadata": {},
   "source": [
    "<h4> Exercise8: Open the file \"sparc_sequences\" and perform the multiple sequence alignment (using profiles) and then, save it into the file adding at the end Align Comparison line. "
   ]
  },
  {
   "cell_type": "code",
   "execution_count": 12,
   "id": "0d4b4a70",
   "metadata": {},
   "outputs": [],
   "source": [
    "from practical1 import BLOSUM62, DNA_2, SequenceAlign #let's import DNA_2/BLOSU62 variables and SequenceAlign function"
   ]
  },
  {
   "cell_type": "code",
   "execution_count": 18,
   "id": "fa8c2760",
   "metadata": {},
   "outputs": [],
   "source": [
    "def ProfileAlign(profileA, profileB, simiarityMatrix = DNA_2, insert=3, extend=1):\n",
    "    \n",
    "    import numpy as np\n",
    "    \n",
    "    numI = len(profileA) + 1\n",
    "    numJ = len(profileB) + 1\n",
    "    \n",
    "    SMatrix = np.zeros((numI, numJ))\n",
    "    RMatrix = np.zeros((numI, numJ))\n",
    "    \n",
    "    for i in range(1, numI):\n",
    "        RMatrix[i,0] = 1\n",
    "        \n",
    "    for j in range(1, numJ):\n",
    "        RMatrix[0,j] = 2\n",
    "\n",
    "    for i in range(1, numI):\n",
    "        for j in range(1, numJ):\n",
    "            \n",
    "            penalty1 = insert\n",
    "            penalty2 = insert\n",
    "            \n",
    "            if RMatrix[i-1, j] == 1:\n",
    "                penalty1 = extend\n",
    "                \n",
    "            elif RMatrix[i, j-1] == 2:\n",
    "                penalty2 = extend\n",
    "                \n",
    "            frac_A = profileA[i-1]\n",
    "            frac_B = profileB[j-1]\n",
    "            \n",
    "            similarity = 0\n",
    "            totalWeight = 0\n",
    "            \n",
    "            for residue_A in frac_A:\n",
    "                for residue_B in frac_B:\n",
    "                    \n",
    "                    weight = frac_A[residue_A] * frac_B[residue_B]\n",
    "                    totalWeight += weight\n",
    "                    similarity += weight * simiarityMatrix[residue_A][residue_B]\n",
    "                    \n",
    "            penalty1 *= totalWeight\n",
    "            penalty2 *= totalWeight\n",
    "            \n",
    "            paths = [SMatrix[i-1, j-1] + similarity,\n",
    "                     SMatrix[i-1, j] - penalty1,\n",
    "                     SMatrix[i, j-1] - penalty2]\n",
    "            \n",
    "            best = max(paths) #maximum value of paths list\n",
    "            route = paths.index(best) #index where maximum value\n",
    "            \n",
    "            SMatrix[i, j] = best\n",
    "            RMatrix[i, j] = route\n",
    "            \n",
    "        pA = []\n",
    "        pB = []\n",
    "        \n",
    "        i = numI-1\n",
    "        j = numJ-1\n",
    "        \n",
    "        score = SMatrix[i, j]\n",
    "        \n",
    "        while i > 0 or j > 0:\n",
    "            route = RMatrix[i, j]\n",
    "            if route == 0: \n",
    "                pA.append(profileA[i-1])\n",
    "                pB.append(profileB[j-1])\n",
    "                i -= 1\n",
    "                j -= 1\n",
    "            elif route == 1: \n",
    "                pA.append(profileA[i-1])\n",
    "                pB.append(None)\n",
    "                i -= 1\n",
    "            elif route == 2: \n",
    "                pA.append(None)\n",
    "                pB.append(profileB[j-1])\n",
    "                j -= 1\n",
    "                \n",
    "    pA.reverse()\n",
    "    pB.reverse()\n",
    "    \n",
    "    return score, pA, pB"
   ]
  },
  {
   "cell_type": "code",
   "execution_count": 13,
   "id": "d7797fa8",
   "metadata": {},
   "outputs": [],
   "source": [
    "def ProfileMultipleAlignment(seqs, similarityMatrix = DNA_2):\n",
    "    \"\"\"\n",
    "    This function returns Multiple Sequence Alignment (MSA)\n",
    "    for a given list of sequences using profiles.\n",
    "    \"\"\"\n",
    "    n = len(seqs)\n",
    "    \n",
    "    score, alignA, alignB = SequenceAlign(seqs[0], seqs[1], similarityMatrix) #alignment for two first sequences\n",
    "    \n",
    "    MSA = [alignA, alignB]\n",
    "    \n",
    "    for i in range(2,n):\n",
    "        \n",
    "        profA = Profile(MSA)\n",
    "        toAdd = [seqs[i],] #the next sequence (3d, 4th and so on)\n",
    "        profB = Profile(toAdd)\n",
    "        score, alignA, alignB = ProfileAlign(profA, profB, similarityMatrix) #alignment between two profiles\n",
    "        \n",
    "        gaps = []\n",
    "        \n",
    "        for j, frac in enumerate(alignA):\n",
    "            if frac is None:\n",
    "                gaps.append(j)\n",
    "                \n",
    "        for j, seq in enumerate(MSA):\n",
    "            for gap in gaps:\n",
    "                seq = seq[:gap] + '-' + seq[gap:]\n",
    "                MSA[j] = seq\n",
    "                \n",
    "        gaps = []\n",
    "        \n",
    "        for j, frac in enumerate(alignB):\n",
    "            if frac is None:\n",
    "                gaps.append(j)\n",
    "                \n",
    "        for j, seq in enumerate(toAdd):\n",
    "            for gap in gaps:\n",
    "                seq = seq[:gap] + '-' + seq[gap:]\n",
    "            toAdd[j] = seq\n",
    "    \n",
    "        MSA.extend(toAdd)\n",
    "        \n",
    "    return MSA"
   ]
  },
  {
   "cell_type": "code",
   "execution_count": 28,
   "id": "dcb3546d",
   "metadata": {},
   "outputs": [],
   "source": [
    "def AlignComparison(align, similarityMatrix, thresholds):\n",
    "    \n",
    "    similarity = ''\n",
    "    conservation = Conservation(align, similarityMatrix)\n",
    "    t_1, t_2, t_3 = thresholds\n",
    "    \n",
    "    for S in conservation:\n",
    "        if S >= t_1:\n",
    "            char = '*'\n",
    "        elif S >= t_2:\n",
    "            char = ':'\n",
    "        elif S >= t_3:\n",
    "            char = '.'\n",
    "        else:\n",
    "            char = ' '\n",
    "        similarity += char\n",
    "        \n",
    "    return similarity"
   ]
  },
  {
   "cell_type": "code",
   "execution_count": 32,
   "id": "8ed2cf03",
   "metadata": {},
   "outputs": [],
   "source": [
    "def Conservation(align, similarityMatrix = DNA_2):\n",
    "    \n",
    "    \"\"\"\n",
    "    This functions returns a list of numbers which indicate\n",
    "    on the conservation of subsequent position. 1 means that\n",
    "    the same residue is in all aligned sequences.\n",
    "    \"\"\"\n",
    "    \n",
    "    conservation = []\n",
    "    prof = Profile(align)\n",
    "    \n",
    "    for elem in prof:\n",
    "        \n",
    "        items = list(elem.items())\n",
    "        items.sort(key = lambda x: x[1])\n",
    "        score = 0\n",
    "        for resA, compA in items:\n",
    "            for resB, compB in items:\n",
    "                score += compA*compB*similarityMatrix[resA][resB]\n",
    "                \n",
    "        bestLetter = items[-1][0]\n",
    "        maxScore = similarityMatrix[bestLetter][bestLetter]\n",
    "        score /= maxScore\n",
    "        \n",
    "        conservation.append(score)\n",
    "        \n",
    "    return conservation"
   ]
  },
  {
   "cell_type": "code",
   "execution_count": 30,
   "id": "b7b20bfd",
   "metadata": {},
   "outputs": [],
   "source": [
    "sequences = []\n",
    "\n",
    "with open('sparc_sequences.txt', 'r') as f:\n",
    "    for line in f:\n",
    "        line = line.rstrip()\n",
    "        if not line.startswith('>'):\n",
    "            sequences.append(line)\n",
    "  \n",
    "align = ProfileMultipleAlignment(sequences, BLOSUM62)"
   ]
  },
  {
   "cell_type": "code",
   "execution_count": 33,
   "id": "2d3c064e",
   "metadata": {},
   "outputs": [],
   "source": [
    "symbols = AlignComparison(align, BLOSUM62, (1.0, 0.5, 0.3))"
   ]
  },
  {
   "cell_type": "code",
   "execution_count": 34,
   "id": "f53f8d1c",
   "metadata": {},
   "outputs": [],
   "source": [
    "my_file = open(\"file.txt\", \"w\")\n",
    "for k, seq in enumerate(align):\n",
    "    my_file.write(seq)\n",
    "    my_file.write(\"\\n\")\n",
    "\n",
    "my_file.write(symbols)\n",
    "my_file.close()"
   ]
  },
  {
   "cell_type": "markdown",
   "id": "f07956f9",
   "metadata": {},
   "source": [
    "<h4> Exercise9: Define a function $MerMatrix$ that takes a list of sequences and returns a matrix of distances between them (see Lecture 2, $k\\_comparison$ function). Use this matrix to generate a phylogenetic tree for insuline sequences."
   ]
  },
  {
   "cell_type": "code",
   "execution_count": 69,
   "id": "9d4edc64",
   "metadata": {},
   "outputs": [],
   "source": [
    "def 𝑀𝑒𝑟𝑀𝑎𝑡𝑟𝑖𝑥(seqs):\n",
    "    import numpy as np\n",
    "\n",
    "    n = len(seqs)\n",
    "    A = np.zeros((n,n))\n",
    "    \n",
    "    for i in range(n):\n",
    "        for j in range(n):\n",
    "            A[i, j] = k_comparison(seqs[i], seqs[j])\n",
    "            \n",
    "    return A"
   ]
  },
  {
   "cell_type": "code",
   "execution_count": 72,
   "id": "0231a8cc",
   "metadata": {},
   "outputs": [],
   "source": [
    "organisms = [\"human\",\"mouse\",\"rat\",\"chicken\"]\n",
    "\n",
    "insuline = [\"MALWMRLLPLLALLALWGPDPAAAFVNQHLCGSHLVEALYLVCGERGFFYTPKTRREAEDLQVGQVELGGGPGAGSLQPLALEGSLQKRGIVEQCCTSICSLYQLENYCN\",\n",
    "         \"MALWMRFLPLLALLFLWESHPTQAFVKQHLCGSHLVEALYLVCGERGFFYTPMSRREVEDPQVAQLELGGGPGAGDLQTLALEVAQQKRGIVDQCCTSICSLYQLENYCN\",\n",
    "         \"MALWIRFLPLLALLILWEPRPAQAFVKQHLCGSHLVEALYLVCGERGFFYTPMSRREVEDPQVAQLELGGGPGAGDLQTLALEVARQKRGIVDQCCTSICSLYQLENYCN\",\n",
    "         \"MALWIRSLPLLALLVFSGPGTSYAAANQHLCGSHLVEALYLVCGERGFFYSPKARRDVEQPLVSSPLRGEAGVLPFQQEEYEKVKRGIVEQCCHNTCSLYQLENYCN\"]"
   ]
  },
  {
   "cell_type": "code",
   "execution_count": 70,
   "id": "2627df1f",
   "metadata": {},
   "outputs": [
    {
     "name": "stdout",
     "output_type": "stream",
     "text": [
      "[[ 0.    9.8   9.9  11.09]\n",
      " [ 9.8   0.    5.48 11.53]\n",
      " [ 9.9   5.48  0.   11.27]\n",
      " [11.09 11.53 11.27  0.  ]]\n"
     ]
    }
   ],
   "source": [
    "print(MerMatrix(insuline))"
   ]
  },
  {
   "cell_type": "code",
   "execution_count": 73,
   "id": "3ed8b4c1",
   "metadata": {},
   "outputs": [
    {
     "data": {
      "image/png": "[encoded data removed]",
      "text/plain": [
       "<Figure size 1440x360 with 1 Axes>"
      ]
     },
     "metadata": {
      "needs_background": "light"
     },
     "output_type": "display_data"
    }
   ],
   "source": [
    "import numpy as np\n",
    "import matplotlib.pyplot as plt\n",
    "from scipy.cluster.hierarchy import dendrogram, linkage #to generate a tree\n",
    "from scipy.spatial.distance import pdist  #to prepare an approprite format\n",
    "\n",
    "X = pdist(MerMatrix(insuline)) \n",
    "dist = linkage(X, method=\"average\")  #average = UPGMA method\n",
    "\n",
    "\n",
    "fig = plt.figure(figsize=(20, 5))\n",
    "dn = dendrogram(dist, labels = organisms, orientation = \"left\")\n",
    "plt.show()"
   ]
  },
  {
   "cell_type": "markdown",
   "id": "270672f7",
   "metadata": {},
   "source": [
    "<h4> Exercise10: Define a function $LZMatrix$ that takes a list of sequences and returns a matrix of distances between them (see Lecture 2, $words\\_comparison$ function). Use this matrix to generate a phylogenetic tree for insuline sequences."
   ]
  },
  {
   "cell_type": "code",
   "execution_count": 79,
   "id": "308caddc",
   "metadata": {},
   "outputs": [],
   "source": [
    "def WordSeq(seq):\n",
    "    d=[]\n",
    "    l=len(seq)\n",
    "    i=0\n",
    "    k=1\n",
    "    n=0\n",
    "    while i<l:\n",
    "        while seq[i:i+k] in d and i+k<l:#Everytime the word is already in the list, k+=1 -> the function check with the next letter\n",
    "            k+=1\n",
    "        if seq[i:i+k] not in d:     \n",
    "            d.append(seq[i:i+k])  #When the word isn't in d, the loop stops and the word is put into the list\n",
    "        i+=k  #i becomes i+k to start to read again after the words that was already added\n",
    "        k=1#we set again the value of k to 1 so that when the loops start again it start to check if the next letter is in the list    \n",
    "    return d\n"
   ]
  },
  {
   "cell_type": "code",
   "execution_count": 74,
   "id": "f41188b4",
   "metadata": {},
   "outputs": [],
   "source": [
    "def words_comparison(seq1, seq2):\n",
    "    l1 = len(WordSeq(seq1))\n",
    "    l2 = len(WordSeq(seq2))\n",
    "    l3 = len(WordSeq(seq1+seq2))\n",
    "    C = (l3 - min(l1,l2))/max(l1,l2)\n",
    "    return C"
   ]
  },
  {
   "cell_type": "code",
   "execution_count": 77,
   "id": "baaee856",
   "metadata": {},
   "outputs": [],
   "source": [
    "def LZ𝑀𝑎𝑡𝑟𝑖𝑥(seqs):\n",
    "    import numpy as np\n",
    "    \n",
    "    n = len(seqs)\n",
    "    A = np.zeros((n,n))\n",
    "    \n",
    "    for i in range(n):\n",
    "        for j in range(n):\n",
    "            A[i, j] = words_comparison(seqs[i], seqs[j])\n",
    "            \n",
    "    return A"
   ]
  },
  {
   "cell_type": "code",
   "execution_count": 80,
   "id": "2c272032",
   "metadata": {},
   "outputs": [
    {
     "name": "stdout",
     "output_type": "stream",
     "text": [
      "[[0.67213115 0.74193548 0.75409836 0.73770492]\n",
      " [0.74193548 0.70967742 0.75806452 0.75806452]\n",
      " [0.75409836 0.77419355 0.78688525 0.78688525]\n",
      " [0.75409836 0.77419355 0.78688525 0.68333333]]\n"
     ]
    }
   ],
   "source": [
    "print(LZMatrix(insuline))"
   ]
  },
  {
   "cell_type": "code",
   "execution_count": 81,
   "id": "852a6495",
   "metadata": {},
   "outputs": [
    {
     "data": {
      "image/png": "[encoded data removed]",
      "text/plain": [
       "<Figure size 1440x360 with 1 Axes>"
      ]
     },
     "metadata": {
      "needs_background": "light"
     },
     "output_type": "display_data"
    }
   ],
   "source": [
    "import numpy as np\n",
    "import matplotlib.pyplot as plt\n",
    "from scipy.cluster.hierarchy import dendrogram, linkage #to generate a tree\n",
    "from scipy.spatial.distance import pdist  #to prepare an approprite format\n",
    "\n",
    "X = pdist(LZMatrix(insuline)) \n",
    "dist = linkage(X, method=\"average\")  #average = UPGMA method\n",
    "\n",
    "\n",
    "fig = plt.figure(figsize=(20, 5))\n",
    "dn = dendrogram(dist, labels = organisms, orientation = \"left\")\n",
    "plt.show()"
   ]
  }
 ],
 "metadata": {
  "kernelspec": {
   "display_name": "Python 3",
   "language": "python",
   "name": "python3"
  },
  "language_info": {
   "codemirror_mode": {
    "name": "ipython",
    "version": 3
   },
   "file_extension": ".py",
   "mimetype": "text/x-python",
   "name": "python",
   "nbconvert_exporter": "python",
   "pygments_lexer": "ipython3",
   "version": "3.8.8"
  }
 },
 "nbformat": 4,
 "nbformat_minor": 5
}
